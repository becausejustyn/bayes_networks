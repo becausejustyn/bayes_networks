{
  "nbformat": 4,
  "nbformat_minor": 0,
  "metadata": {
    "colab": {
      "name": "mcmc_notebook_r.ipynb",
      "provenance": [],
      "authorship_tag": "ABX9TyNK+mRab9KCL4afYi7T7+r5",
      "include_colab_link": true
    },
    "kernelspec": {
      "name": "ir",
      "display_name": "R"
    },
    "language_info": {
      "name": "R"
    }
  },
  "cells": [
    {
      "cell_type": "markdown",
      "metadata": {
        "id": "view-in-github",
        "colab_type": "text"
      },
      "source": [
        "<a href=\"https://colab.research.google.com/github/becausejustyn/bayes_networks/blob/main/mcmc_notebook_r.ipynb\" target=\"_parent\"><img src=\"https://colab.research.google.com/assets/colab-badge.svg\" alt=\"Open In Colab\"/></a>"
      ]
    },
    {
      "cell_type": "code",
      "execution_count": null,
      "metadata": {
        "id": "zd-5CjXEJ2yN"
      },
      "outputs": [],
      "source": [
        ""
      ]
    }
  ]
}